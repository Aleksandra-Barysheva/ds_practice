{
 "cells": [
  {
   "cell_type": "code",
   "execution_count": 1,
   "metadata": {},
   "outputs": [],
   "source": [
    "import sys\n",
    "import os\n",
    "\n",
    "current_dir = os.getcwd()\n",
    "src_dir = os.path.join(current_dir, '..', 'src')\n",
    "sys.path.append(src_dir)\n",
    "\n",
    "import pandas as pd\n",
    "from dqc.dqc import DataQualityPipeline\n",
    "from etl.kaggle_data_loader import download_data"
   ]
  },
  {
   "cell_type": "code",
   "execution_count": 2,
   "metadata": {},
   "outputs": [
    {
     "ename": "FileNotFoundError",
     "evalue": "[Errno 2] No such file or directory: '/home/sandra/Projects/ds_practice/notebooks/etl/kaggle.json'",
     "output_type": "error",
     "traceback": [
      "\u001b[0;31m---------------------------------------------------------------------------\u001b[0m",
      "\u001b[0;31mFileNotFoundError\u001b[0m                         Traceback (most recent call last)",
      "Cell \u001b[0;32mIn[2], line 1\u001b[0m\n\u001b[0;32m----> 1\u001b[0m download_data()\n\u001b[1;32m      3\u001b[0m data_paths \u001b[39m=\u001b[39m {}\n\u001b[1;32m      5\u001b[0m \u001b[39mimport\u001b[39;00m \u001b[39mos\u001b[39;00m\n",
      "File \u001b[0;32m~/Projects/ds_practice/notebooks/../src/etl/kaggle_data_loader.py:12\u001b[0m, in \u001b[0;36mdownload_data\u001b[0;34m()\u001b[0m\n\u001b[1;32m      9\u001b[0m data_path \u001b[39m=\u001b[39m \u001b[39mf\u001b[39m\u001b[39m\"\u001b[39m\u001b[39m{\u001b[39;00mcwd\u001b[39m}\u001b[39;00m\u001b[39m/etl/data\u001b[39m\u001b[39m\"\u001b[39m\n\u001b[1;32m     10\u001b[0m \u001b[39mif\u001b[39;00m \u001b[39mnot\u001b[39;00m os\u001b[39m.\u001b[39mpath\u001b[39m.\u001b[39mexists(data_path) \u001b[39mor\u001b[39;00m \u001b[39mnot\u001b[39;00m os\u001b[39m.\u001b[39mlistdir(data_path):\n\u001b[0;32m---> 12\u001b[0m     \u001b[39mwith\u001b[39;00m \u001b[39mopen\u001b[39;49m(\u001b[39mf\u001b[39;49m\u001b[39m\"\u001b[39;49m\u001b[39m{\u001b[39;49;00mcwd\u001b[39m}\u001b[39;49;00m\u001b[39m/etl/kaggle.json\u001b[39;49m\u001b[39m\"\u001b[39;49m, \u001b[39m\"\u001b[39;49m\u001b[39mr\u001b[39;49m\u001b[39m\"\u001b[39;49m) \u001b[39mas\u001b[39;00m f:\n\u001b[1;32m     13\u001b[0m         creds \u001b[39m=\u001b[39m json\u001b[39m.\u001b[39mload(f)\n\u001b[1;32m     15\u001b[0m     os\u001b[39m.\u001b[39menviron[\u001b[39m'\u001b[39m\u001b[39mKAGGLE_USERNAME\u001b[39m\u001b[39m'\u001b[39m] \u001b[39m=\u001b[39m creds[\u001b[39m'\u001b[39m\u001b[39musername\u001b[39m\u001b[39m'\u001b[39m]\n",
      "\u001b[0;31mFileNotFoundError\u001b[0m: [Errno 2] No such file or directory: '/home/sandra/Projects/ds_practice/notebooks/etl/kaggle.json'"
     ]
    }
   ],
   "source": [
    "download_data()\n",
    "\n",
    "data_paths = {}\n",
    "\n",
    "import os\n",
    "for dirname, _, filenames in os.walk('./etl/data'):\n",
    "    for filename in filenames:\n",
    "        print(os.path.join(dirname, filename))\n",
    "        data_paths[filename] = f\"{dirname}/{filename}\"\n",
    "\n",
    "relations = {}\n",
    "\n",
    "for file, path in data_paths.items():\n",
    "    relations[file.split('.')[0]] = pd.read_csv(path)"
   ]
  },
  {
   "cell_type": "code",
   "execution_count": null,
   "metadata": {},
   "outputs": [],
   "source": []
  }
 ],
 "metadata": {
  "kernelspec": {
   "display_name": "ds_practice",
   "language": "python",
   "name": "python3"
  },
  "language_info": {
   "codemirror_mode": {
    "name": "ipython",
    "version": 3
   },
   "file_extension": ".py",
   "mimetype": "text/x-python",
   "name": "python",
   "nbconvert_exporter": "python",
   "pygments_lexer": "ipython3",
   "version": "3.10.6"
  },
  "orig_nbformat": 4
 },
 "nbformat": 4,
 "nbformat_minor": 2
}
